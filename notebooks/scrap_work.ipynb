{
 "cells": [
  {
   "cell_type": "markdown",
   "id": "aef7bad8-f164-456e-8e25-6cd6d902328d",
   "metadata": {},
   "source": [
    "##### Length of individual non-null rows for each lidar_data CSV file"
   ]
  },
  {
   "cell_type": "code",
   "execution_count": null,
   "id": "a29e872d-d606-4fb0-b6ed-92ac49159a96",
   "metadata": {},
   "outputs": [],
   "source": [
    "data_folder = \"../data/training\"\n",
    "csv_files = [] # initialize empty list for storing CSV filenames\n",
    "\n",
    "for filename in os.listdir(data_folder): \n",
    "    if filename.endswith('.csv'):\n",
    "        csv_files.append(filename)\n",
    "        csv_filename = os.path.join(data_folder, filename)\n",
    "        df = pd.read_csv(csv_filename)\n",
    "        non_null_row_count = len(df.dropna())\n",
    "        print(f\"Non-null row count for '{filename}': {non_null_row_count}\")"
   ]
  },
  {
   "cell_type": "markdown",
   "id": "36f8b22a-22b3-4e3e-966c-968477a083dc",
   "metadata": {},
   "source": [
    "##### Approach of treating 'inf' values which were present with the use of a prior lidar sensor used in Webots (before switching to a new one)"
   ]
  },
  {
   "cell_type": "code",
   "execution_count": null,
   "id": "8a32a370-02e9-4ea7-9797-ba5678cebc74",
   "metadata": {},
   "outputs": [],
   "source": [
    "# min_sensor_range = 0 # define an appropriate minimum sensor range\n",
    "X = X.replace([np.inf, -np.inf], min_sensor_range)\n",
    "\n",
    "# or max_sensor_range = 1000 # define an appropriate maximum sensor range\n",
    "X = X.replace([np.inf, -np.inf], max_sensor_range)"
   ]
  },
  {
   "cell_type": "markdown",
   "id": "da6090d7-1e84-425c-9427-e31471f7bdde",
   "metadata": {},
   "source": [
    "##### Loading compressed file (pickle - used to save space)"
   ]
  },
  {
   "cell_type": "code",
   "execution_count": null,
   "id": "0af611ef-ec79-4d88-9346-7b2db92cdfb7",
   "metadata": {
    "tags": []
   },
   "outputs": [],
   "source": [
    "import os # allow us to interact with the operating system\n",
    "import pickle"
   ]
  },
  {
   "cell_type": "markdown",
   "id": "0caca06e-176e-4bd6-8bd5-88ed5cc18315",
   "metadata": {},
   "source": [
    "Load a single pickle file and converting it into a DataFrame."
   ]
  },
  {
   "cell_type": "code",
   "execution_count": null,
   "id": "339c80dc-8242-46c2-9f10-55845233cd28",
   "metadata": {
    "tags": []
   },
   "outputs": [],
   "source": [
    "import pickle\n",
    "\n",
    "pickle_filename = \"../data/traininglidar_data4.pkl\"\n",
    "with open(pickle_filename, 'rb') as pickle_file:\n",
    "    unpickled_data = pickle.load(pickle_file)"
   ]
  },
  {
   "cell_type": "code",
   "execution_count": null,
   "id": "dd449b83-54d6-404e-83f0-32db3f64dcf2",
   "metadata": {
    "tags": []
   },
   "outputs": [],
   "source": [
    "# create a DataFrame from unpickled data\n",
    "unpickled_data = pd.DataFrame(unpickled_data)\n",
    "\n",
    "# unpickled_df.iloc[0:11, 14:]\n",
    "display(unpickled_data.head())"
   ]
  },
  {
   "cell_type": "markdown",
   "id": "ea064ddb-5f52-41d2-a97a-79f284af9157",
   "metadata": {},
   "source": [
    "When the training data was saved as individual .pkl files (alongside the CSVs), load all of them located inside the 'data_folder' and combine them into a single DataFrame."
   ]
  },
  {
   "cell_type": "code",
   "execution_count": null,
   "id": "65fe9c63-f997-4981-a3f1-d5fa97b22f2b",
   "metadata": {
    "tags": []
   },
   "outputs": [],
   "source": [
    "data_folder = \"../data/training\"\n",
    "unpickled_dfs = []\n",
    "\n",
    "for filename in os.listdir(data_folder):\n",
    "    if filename.endswith(\".pkl\"):\n",
    "        pickle_filename = os.path.join(data_folder, filename)\n",
    "        with open(pickle_filename, 'rb') as pkl_file:\n",
    "            unpickled_data = pickle.load(pkl_file)\n",
    "            df = pd.DataFrame(unpickled_data)\n",
    "            unpickled_dfs.append(df)\n",
    "            print(f\"Length of {filename}: {len(df)}\")\n",
    "\n",
    "# concatenate all dataframes into one\n",
    "unpkled_combined_df = pd.concat(unpickled_dfs, ignore_index=True)\n",
    "\n",
    "# print the length of the final combined DataFrame\n",
    "print(f\"Length of the final combined DataFrame: {len(unpkled_combined_df)}\")\n",
    "\n",
    "# display the final combined DataFrame\n",
    "unpkled_combined_df"
   ]
  },
  {
   "cell_type": "markdown",
   "id": "91f20040-60b5-40f8-b1b9-0b4c60c6b844",
   "metadata": {},
   "source": [
    "##### Loading compressed file (joblib with gzip=3 compression - used to save space)"
   ]
  },
  {
   "cell_type": "code",
   "execution_count": null,
   "id": "fea148d0-8f8e-417c-8637-4fc40b0efd13",
   "metadata": {
    "tags": []
   },
   "outputs": [],
   "source": [
    "import joblib\n",
    "\n",
    "joblib_filename = \"..data/training/lidar_data8.joblib1.gz\"\n",
    "with open(joblib_filename, 'rb') as joblib_file:\n",
    "    loaded_data = joblib.load(joblib_file)"
   ]
  },
  {
   "cell_type": "code",
   "execution_count": null,
   "id": "d0e61521-ca55-402e-b293-c629eb153645",
   "metadata": {
    "tags": []
   },
   "outputs": [],
   "source": [
    "# create a DataFrame from unpickled data\n",
    "loaded_df = pd.DataFrame(loaded_data)\n",
    "\n",
    "# loaded_df.iloc[0:11, 14:]\n",
    "display(loaded_df.head())"
   ]
  },
  {
   "attachments": {
    "5d9506ad-f4ed-4788-bd48-df69edc723d2.png": {
     "image/png": "[encoded data removed]"
    }
   },
   "cell_type": "markdown",
   "id": "effc78ff-5349-4ab7-a7d4-05bb05563cd5",
   "metadata": {},
   "source": [
    "During training, each file was saved as a CSV, pickle, and joblib file. The goal was to ideally to only store compressed training files to save space and load them to create a single DataFrame which would be used to train models on for testing. However, Webots had an issue with the compression of these pickle and joblib files due to errors that resulting from the file sizes being too large resulting in longer than normal compression and loading times, inevitably causing it to timeout. \n",
    "![webots_compression_errors.png](attachment:5d9506ad-f4ed-4788-bd48-df69edc723d2.png)"
   ]
  },
  {
   "cell_type": "markdown",
   "id": "86625411-ce3f-4cf4-aebd-63ab5a155189",
   "metadata": {},
   "source": [
    "Below is an example of compression for a trained random forest classifier model (using \"default\" parameters) with a compression gzip=5."
   ]
  },
  {
   "cell_type": "code",
   "execution_count": null,
   "id": "72f9dfad-f422-4c70-9a34-a25b426092c3",
   "metadata": {
    "jp-MarkdownHeadingCollapsed": true,
    "tags": []
   },
   "outputs": [],
   "source": [
    "from sklearn.ensemble import RandomForestClassifier\n",
    "import joblib\n",
    "\n",
    "# remove rows that contain NaN values (for keyboard input, y)\n",
    "unpkled_combined_df = unpkled_combined_df.dropna()\n",
    "\n",
    "# extract features (sensor readings) and labels (control inputs)\n",
    "X = unpkled_combined_df.iloc[:, 1:]  # sensor readings\n",
    "y = unpkled_combined_df.iloc[:, 0]   # keyboard input\n",
    "\n",
    "max_sensor_range = 1000  # define an appropriate maximum sensor range\n",
    "X = X.replace([np.inf, -np.inf], max_sensor_range)\n",
    "\n",
    "# display(X.iloc[0:11, 14:])\n",
    "\n",
    "# create and train the model\n",
    "model = RandomForestClassifier(n_estimators=100, random_state=42)\n",
    "\n",
    "# train the model on the entire dataset\n",
    "model.fit(X, y)\n",
    "\n",
    "# save the trained model to a file using joblib\n",
    "joblib.dump(model, 'trained_model.joblib', compress=('gzip', 5))"
   ]
  },
  {
   "cell_type": "markdown",
   "id": "bc32de05-f7b6-4589-a001-78996c04ba2e",
   "metadata": {},
   "source": [
    "##### Used to compare the differences between the same CSV files but had different sizes (i.e. different number of kilobytes)"
   ]
  },
  {
   "cell_type": "code",
   "execution_count": null,
   "id": "563183b6-79f3-49ef-815d-485263a3ab11",
   "metadata": {},
   "outputs": [],
   "source": [
    "import csv\n",
    "\n",
    "path1 = \"../data/model/lidar_data.csv\"\n",
    "path2 = \"../data/model/lidar_data_combined.csv\"\n",
    "\n",
    "with open(path1) as f1, open(path2) as f2:\n",
    "    reader1 = csv.reader(f1)\n",
    "    reader2 = csv.reader(f2)\n",
    "\n",
    "    for i, row1 in enumerate(reader1):\n",
    "        try:\n",
    "            row2 = next(reader2)\n",
    "        except StopIteration:\n",
    "            print(f\"Row {i+1}, f1 has this extra row compared to f2\")\n",
    "            continue\n",
    "\n",
    "        if row1 == row2:\n",
    "            continue\n",
    "\n",
    "        if len(row1) != len(row2):\n",
    "            print(f\"Row {i+1} of f1 has {len(row1)} cols, f2 has {len(row2)} cols\")\n",
    "            continue\n",
    "\n",
    "        for j, cell1 in enumerate(row1):\n",
    "            cell2 = row2[j]\n",
    "            if cell1 != cell2:\n",
    "                print(f'Row {i+1}, Col {j+1} of f1 is \"{cell1}\", f2 is \"{cell2}\"')\n",
    "\n",
    "    for row2 in reader2:\n",
    "        i += 1\n",
    "        print(f\"Row {i+1}, f2 has this extra row compared to f1\")"
   ]
  },
  {
   "cell_type": "code",
   "execution_count": null,
   "id": "621259a6-c725-432f-a910-83b05b4b0c4e",
   "metadata": {
    "tags": []
   },
   "outputs": [],
   "source": [
    "import pandas as pd\n",
    "\n",
    "def compare_csv_files(file1, file2):\n",
    "    # read the CSV files into pandas DataFrames\n",
    "    df1 = pd.read_csv(file1)\n",
    "    df2 = pd.read_csv(file2)\n",
    "\n",
    "    # check if the DataFrames are equal\n",
    "    are_equal = df1.equals(df2)\n",
    "\n",
    "    if are_equal:\n",
    "        print(\"The data in the two CSV files is identical.\")\n",
    "    else:\n",
    "        print(\"Differences found between the two CSV files:\")\n",
    "        # find and display the specific differences\n",
    "        diff = df1.compare(df2)\n",
    "        print(diff)\n",
    "\n",
    "# paths to the two CSV files\n",
    "path1 = \"../data/model/lidar_data.csv\"\n",
    "path2 = \"../data/model/lidar_data_combinedog.csv\"\n",
    "\n",
    "# compare the CSV files\n",
    "compare_csv_files(path1, path2)"
   ]
  },
  {
   "cell_type": "markdown",
   "id": "5686da56-e3cd-4b3f-9359-52334fb45e58",
   "metadata": {},
   "source": [
    "##### Generate video of lidar range (distance measurements) over simulated time"
   ]
  },
  {
   "cell_type": "markdown",
   "id": "ef1f01bd-6cf8-49cf-9b6c-155d9ee823cf",
   "metadata": {},
   "source": [
    "Test environment 2 - Random Forest Classifier"
   ]
  },
  {
   "cell_type": "code",
   "execution_count": null,
   "id": "1ba19ff7-5212-4fc5-906f-7350324fee8d",
   "metadata": {},
   "outputs": [],
   "source": [
    "import cv2\n",
    "import seaborn as sb\n",
    "import pandas as pd\n",
    "import numpy as np\n",
    "import matplotlib.pyplot as plt\n",
    "\n",
    "# load the CSV file for the Random Forest Classifier\n",
    "csv_data = pd.read_csv(\"../data/testing/env1/lidar_data_rfc_model1_env1.csv\")\n",
    "\n",
    "# calculate the maximum and minimum range values\n",
    "range_max = 1.1 * csv_data.iloc[:, 1:].max().max()\n",
    "range_min = 0\n",
    "\n",
    "vid_obj = cv2.VideoWriter('rfc_lidar_range.avi', cv2.VideoWriter_fourcc(*'DIVX'), 32, (640,480))\n",
    "laser_idx = np.arange(128)\n",
    "for k in range(0, len(csv_data), 10):\n",
    "    key = csv_data['Predicted Action'].iloc[k]\n",
    "    ranges = csv_data.iloc[k,1:]\n",
    "\n",
    "    fig, ax = plt.subplots()\n",
    "    ax = sb.lineplot(x=laser_idx,y=ranges)\n",
    "    ax.set_title(key)\n",
    "    ax.set_xlabel('Laser Index')\n",
    "    ax.set_ylabel('Laser Range')\n",
    "    ax.set_ylim(range_min,range_max)\n",
    "\n",
    "    fig.canvas.draw()\n",
    "    frame = np.frombuffer(fig.canvas.tostring_rgb(), dtype=np.uint8)\n",
    "    frame = frame.reshape(fig.canvas.get_width_height()[::-1] + (3,))\n",
    "\n",
    "    vid_obj.write(frame)\n",
    "    plt.close()\n",
    "\n",
    "vid_obj.release()"
   ]
  },
  {
   "cell_type": "code",
   "execution_count": null,
   "id": "66e381b4-3072-4b21-80aa-5fd7ceee9bf5",
   "metadata": {},
   "outputs": [],
   "source": [
    "1.1*csv_data.iloc[:,1:].max().max()"
   ]
  }
 ],
 "metadata": {
  "kernelspec": {
   "display_name": "lhl_env",
   "language": "python",
   "name": "lhl_env"
  },
  "language_info": {
   "codemirror_mode": {
    "name": "ipython",
    "version": 3
   },
   "file_extension": ".py",
   "mimetype": "text/x-python",
   "name": "python",
   "nbconvert_exporter": "python",
   "pygments_lexer": "ipython3",
   "version": "3.9.7"
  }
 },
 "nbformat": 4,
 "nbformat_minor": 5
}
